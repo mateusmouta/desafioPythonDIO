{
  "nbformat": 4,
  "nbformat_minor": 0,
  "metadata": {
    "colab": {
      "provenance": [],
      "authorship_tag": "ABX9TyPixEJuNnrzRgvGQHQB0HKn",
      "include_colab_link": true
    },
    "kernelspec": {
      "name": "python3",
      "display_name": "Python 3"
    },
    "language_info": {
      "name": "python"
    }
  },
  "cells": [
    {
      "cell_type": "markdown",
      "metadata": {
        "id": "view-in-github",
        "colab_type": "text"
      },
      "source": [
        "<a href=\"https://colab.research.google.com/github/mateusmouta/desafioPythonDIO/blob/main/desafiopythondio.ipynb\" target=\"_parent\"><img src=\"https://colab.research.google.com/assets/colab-badge.svg\" alt=\"Open In Colab\"/></a>"
      ]
    },
    {
      "cell_type": "code",
      "execution_count": null,
      "metadata": {
        "id": "cnB5waZ3jTun"
      },
      "outputs": [],
      "source": [
        "menu = \"\"\"\n",
        "Olá, bem vindo ao banco Pecunia\n",
        "[d] Depositar\n",
        "[s] Sacar\n",
        "[e] Extrato\n",
        "[q] Sair\n",
        "=> \"\"\"\n",
        "\n",
        "saldo = 0\n",
        "limite = 500\n",
        "extrato = \"\"\n",
        "numero_saques = 0\n",
        "LIMITE_SAQUES = 3\n",
        "\n",
        "while True:\n",
        "    opcao = input(menu).lower()\n",
        "\n",
        "    if opcao == \"d\":\n",
        "        valor = float(input(\"Informe o valor do depósito: \"))\n",
        "        if valor > 0:\n",
        "            saldo += valor\n",
        "            extrato += f\"Depósito: R$ {valor:.2f}\\n\"\n",
        "        else:\n",
        "            print(\"Operação falhou! O valor informado é inválido.\")\n",
        "    elif opcao == \"s\":\n",
        "        valor = float(input(\"Informe o valor do saque: \"))\n",
        "        excedeu_saldo = valor > saldo\n",
        "        excedeu_limite = valor > limite\n",
        "        excedeu_saques = numero_saques >= LIMITE_SAQUES\n",
        "\n",
        "        if excedeu_saldo:\n",
        "            print(\"Operação falhou! Você não tem saldo suficiente.\")\n",
        "        elif excedeu_limite:\n",
        "            print(\"Operação falhou! O valor do saque excede o limite.\")\n",
        "        elif excedeu_saques:\n",
        "            print(\"Operação falhou! Número máximo de saques excedido.\")\n",
        "        elif valor > 0:\n",
        "            saldo -= valor\n",
        "            extrato += f\"Saque: R$ {valor:.2f}\\n\"\n",
        "            numero_saques += 1\n",
        "        else:\n",
        "            print(\"Operação falhou! O valor informado é inválido.\")\n",
        "    elif opcao == \"e\":\n",
        "        print(\"\\n================ EXTRATO ================\")\n",
        "        print(\"Não foram realizadas movimentações.\" if not extrato else extrato)\n",
        "        print(f\"\\nSaldo: R$ {saldo:.2f}\")\n",
        "        print(\"==========================================\")\n",
        "    elif opcao == \"q\":\n",
        "        break\n",
        "    else:\n",
        "        print(\"Operação inválida, por favor selecione novamente a operação desejada.\")\n"
      ]
    },
    {
      "cell_type": "code",
      "source": [],
      "metadata": {
        "id": "HLIMAHexkzRq"
      },
      "execution_count": null,
      "outputs": []
    }
  ]
}